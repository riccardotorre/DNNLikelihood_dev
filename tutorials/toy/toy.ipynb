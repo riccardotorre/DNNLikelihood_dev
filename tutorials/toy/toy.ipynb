{
 "cells": [
  {
   "cell_type": "markdown",
   "metadata": {},
   "source": [
    "# ATLAS analysis \n",
    "[ATL-PHYS-PUB-2019-029](http://cds.cern.ch/record/2684863)\n",
    "[arXiv:1908.03122](https://arxiv.org/abs/1908.03122)\n",
    "[HistFactory likelihood (HEPData)](https://www.hepdata.net/record/ins1748602)"
   ]
  },
  {
   "cell_type": "markdown",
   "metadata": {},
   "source": [
    "## Initialize"
   ]
  },
  {
   "cell_type": "code",
   "execution_count": 1,
   "metadata": {},
   "outputs": [],
   "source": [
    "import sys\n",
    "sys.dont_write_bytecode = True\n",
    "sys.path.append('../DNNLikelihood_dev/source')\n",
    "import DNNLikelihood\n",
    "#from DNNLikelihood import set_resources\n",
    "#active_gpus = set_resources.set_gpus(None)\n",
    "#from DNNLikelihood import utils\n",
    "#from DNNLikelihood import inference\n",
    "from timeit import default_timer as timer\n",
    "from jupyterthemes import jtplot\n",
    "jtplot.reset()\n",
    "\n",
    "#from os import listdir\n",
    "#from os.path import isfile, join\n",
    "#import json, jsonpatch, requests, jsonschema\n",
    "#from jsonpatch import JsonPatch\n",
    "#import h5py\n",
    "#import os\n",
    "#import sys\n",
    "#import ipywidgets as widgets\n",
    "#from multiprocess import Pool\n",
    "#import psutil\n",
    "#from scipy import stats\n",
    "#from scipy import optimize\n",
    "## insert at 1, 0 is the script path (or '' in REPL)\n",
    "#sys.path.insert(0,'pyhf/src')\n",
    "#import pyhf\n",
    "#import numpy as np\n",
    "#import emcee\n",
    "#from timeit import default_timer as timer\n",
    "#import matplotlib.pyplot as plt\n",
    "#%matplotlib inline\n",
    "#from jupyterthemes import jtplot\n",
    "#\n",
    "#from multiprocessing import Pool"
   ]
  },
  {
   "cell_type": "code",
   "execution_count": 69,
   "metadata": {},
   "outputs": [],
   "source": [
    "#from tensorboard import notebook"
   ]
  },
  {
   "cell_type": "code",
   "execution_count": 189,
   "metadata": {},
   "outputs": [],
   "source": [
    "#import toy_likelihood\n",
    "#from toy_likelihood import *"
   ]
  },
  {
   "cell_type": "markdown",
   "metadata": {
    "heading_collapsed": true
   },
   "source": [
    "## Histfactory"
   ]
  },
  {
   "cell_type": "code",
   "execution_count": 2,
   "metadata": {
    "hidden": true
   },
   "outputs": [
    {
     "name": "stdout",
     "output_type": "stream",
     "text": [
      "Successfully imported 649 likelihoods from 3 regions.\n",
      "Histfactory pickle file C:\\Users\\Admin\\Dropbox\\Work\\09_Resources\\Git\\GitHub\\DNNLikelihood\\ATLAS\\tutorials\\ATLAS_sbottom_search_histfactory.pickle saved in 0.0020822999999996483 s.\n",
      "Histfactory json file C:\\Users\\Admin\\Dropbox\\Work\\09_Resources\\Git\\GitHub\\DNNLikelihood\\ATLAS\\tutorials\\ATLAS_sbottom_search_histfactory.json saved in 0.0013174000000004682 s.\n",
      "Histfactory log file C:\\Users\\Admin\\Dropbox\\Work\\09_Resources\\Git\\GitHub\\DNNLikelihood\\ATLAS\\tutorials\\ATLAS_sbottom_search_histfactory.log saved in 0.0022202999999993978 s.\n"
     ]
    }
   ],
   "source": [
    "histfact = DNNLikelihood.Histfactory(workspace_folder=\"HEPData_workspaces\",\n",
    "                                     name = \"ATLAS_sbottom_search\",\n",
    "                                     output_folder = \"tutorials\")"
   ]
  },
  {
   "cell_type": "code",
   "execution_count": 3,
   "metadata": {
    "hidden": true
   },
   "outputs": [
    {
     "name": "stdout",
     "output_type": "stream",
     "text": [
      "Likelihoods loaded in 0.0075563000000009595 seconds.\n",
      "File size is  157747 .\n",
      "Histfactory log file C:\\Users\\Admin\\Dropbox\\Work\\09_Resources\\Git\\GitHub\\DNNLikelihood\\ATLAS\\tutorials\\ATLAS_sbottom_search_histfactory.log saved in 0.0024151000000003364 s.\n"
     ]
    }
   ],
   "source": [
    "histfact = DNNLikelihood.Histfactory(histfactory_input_file=\"tutorials/ATLAS_sbottom_search_histfactory\")"
   ]
  },
  {
   "cell_type": "code",
   "execution_count": 4,
   "metadata": {
    "hidden": true
   },
   "outputs": [
    {
     "data": {
      "text/plain": [
       "{'signal_region': 'A',\n",
       " 'bg_only_file': 'C:\\\\Users\\\\Admin\\\\Dropbox\\\\Work\\\\09_Resources\\\\Git\\\\GitHub\\\\DNNLikelihood\\\\ATLAS\\\\HEPData_workspaces\\\\RegionA\\\\BkgOnly.json',\n",
       " 'patch_file': 'C:\\\\Users\\\\Admin\\\\Dropbox\\\\Work\\\\09_Resources\\\\Git\\\\GitHub\\\\DNNLikelihood\\\\ATLAS\\\\HEPData_workspaces\\\\RegionA\\\\patch.sbottom_1000_131_1.json',\n",
       " 'name': 'ATLAS_sbottom_search_histfactory_0_region_A_patch_sbottom_1000_131_1_likelihood',\n",
       " 'model_loaded': False}"
      ]
     },
     "execution_count": 4,
     "metadata": {},
     "output_type": "execute_result"
    }
   ],
   "source": [
    "histfact.likelihoods_dict[0]"
   ]
  },
  {
   "cell_type": "code",
   "execution_count": 5,
   "metadata": {
    "hidden": true
   },
   "outputs": [
    {
     "name": "stdout",
     "output_type": "stream",
     "text": [
      "C:\\Users\\Admin\\Dropbox\\Work\\09_Resources\\Git\\GitHub\\DNNLikelihood\\ATLAS\\HEPData_workspaces\\RegionA\\patch.sbottom_1000_131_1.json processed in 0.9326595999999991 s.\n",
      "Histfactory log file C:\\Users\\Admin\\Dropbox\\Work\\09_Resources\\Git\\GitHub\\DNNLikelihood\\ATLAS\\tutorials\\ATLAS_sbottom_search_histfactory.log saved in 0.0026036999999998756 s.\n",
      "Imported 1 likelihoods in  0.9328158000000002 s.\n"
     ]
    }
   ],
   "source": [
    "histfact.import_histfactory(lik_numbers_list=[0])"
   ]
  },
  {
   "cell_type": "code",
   "execution_count": 6,
   "metadata": {
    "hidden": true
   },
   "outputs": [
    {
     "data": {
      "text/plain": [
       "{'signal_region': 'A',\n",
       " 'bg_only_file': 'C:\\\\Users\\\\Admin\\\\Dropbox\\\\Work\\\\09_Resources\\\\Git\\\\GitHub\\\\DNNLikelihood\\\\ATLAS\\\\HEPData_workspaces\\\\RegionA\\\\BkgOnly.json',\n",
       " 'patch_file': 'C:\\\\Users\\\\Admin\\\\Dropbox\\\\Work\\\\09_Resources\\\\Git\\\\GitHub\\\\DNNLikelihood\\\\ATLAS\\\\HEPData_workspaces\\\\RegionA\\\\patch.sbottom_1000_131_1.json',\n",
       " 'name': 'ATLAS_sbottom_search_histfactory_0_region_A_patch_sbottom_1000_131_1_likelihood',\n",
       " 'model_loaded': True,\n",
       " 'model': <pyhf.pdf.Model at 0x1ea62b48e48>,\n",
       " 'obs_data': array([153.,  52.,  19.,  12.,   3.,   2.,   0.,   0.,   0.,   0.,   0.,\n",
       "          0.,   0.,   0.,   0.,   0.,   0.,   0.,   0.,   0.,   0.,   0.,\n",
       "          0.,   0.,   0.,   0.,   0.,   0.,   0.,   0.,   0.,   0.,   0.,\n",
       "          0.,   0.,   0.,   0.,   0.,   0.,   0.,   0.,   0.,   0.,   0.,\n",
       "          0.,   0.,   0.,   0.,   0.,   0.,   0.,   0.,   0.,   0.,   1.,\n",
       "          1.,   1.,   1.,   1.,   1.,   1.,   0.,   0.,   0.,   0.,   0.,\n",
       "          0.,   0.]),\n",
       " 'pars_init': array([1., 1., 1., 1., 0., 1., 0., 0., 0., 0., 0., 0., 0., 0., 0., 0., 0.,\n",
       "        0., 0., 0., 0., 0., 0., 0., 0., 0., 0., 0., 0., 0., 0., 0., 0., 0.,\n",
       "        0., 0., 0., 0., 0., 0., 0., 0., 0., 0., 0., 0., 0., 0., 0., 0., 0.,\n",
       "        0., 0., 0., 1., 0., 0., 0., 0., 0., 0., 1., 1., 1.]),\n",
       " 'pars_bounds': array([[ 9.150e-01,  1.085e+00],\n",
       "        [ 1.000e-10,  1.000e+01],\n",
       "        [ 1.000e-10,  1.000e+01],\n",
       "        [ 1.000e-10,  1.000e+01],\n",
       "        [-5.000e+00,  5.000e+00],\n",
       "        [ 0.000e+00,  1.000e+01],\n",
       "        [-5.000e+00,  5.000e+00],\n",
       "        [-5.000e+00,  5.000e+00],\n",
       "        [-5.000e+00,  5.000e+00],\n",
       "        [-5.000e+00,  5.000e+00],\n",
       "        [-5.000e+00,  5.000e+00],\n",
       "        [-5.000e+00,  5.000e+00],\n",
       "        [-5.000e+00,  5.000e+00],\n",
       "        [-5.000e+00,  5.000e+00],\n",
       "        [-5.000e+00,  5.000e+00],\n",
       "        [-5.000e+00,  5.000e+00],\n",
       "        [-5.000e+00,  5.000e+00],\n",
       "        [-5.000e+00,  5.000e+00],\n",
       "        [-5.000e+00,  5.000e+00],\n",
       "        [-5.000e+00,  5.000e+00],\n",
       "        [-5.000e+00,  5.000e+00],\n",
       "        [-5.000e+00,  5.000e+00],\n",
       "        [-5.000e+00,  5.000e+00],\n",
       "        [-5.000e+00,  5.000e+00],\n",
       "        [-5.000e+00,  5.000e+00],\n",
       "        [-5.000e+00,  5.000e+00],\n",
       "        [-5.000e+00,  5.000e+00],\n",
       "        [-5.000e+00,  5.000e+00],\n",
       "        [-5.000e+00,  5.000e+00],\n",
       "        [-5.000e+00,  5.000e+00],\n",
       "        [-5.000e+00,  5.000e+00],\n",
       "        [-5.000e+00,  5.000e+00],\n",
       "        [-5.000e+00,  5.000e+00],\n",
       "        [-5.000e+00,  5.000e+00],\n",
       "        [-5.000e+00,  5.000e+00],\n",
       "        [-5.000e+00,  5.000e+00],\n",
       "        [-5.000e+00,  5.000e+00],\n",
       "        [-5.000e+00,  5.000e+00],\n",
       "        [-5.000e+00,  5.000e+00],\n",
       "        [-5.000e+00,  5.000e+00],\n",
       "        [-5.000e+00,  5.000e+00],\n",
       "        [-5.000e+00,  5.000e+00],\n",
       "        [-5.000e+00,  5.000e+00],\n",
       "        [-5.000e+00,  5.000e+00],\n",
       "        [-5.000e+00,  5.000e+00],\n",
       "        [-5.000e+00,  5.000e+00],\n",
       "        [-5.000e+00,  5.000e+00],\n",
       "        [-5.000e+00,  5.000e+00],\n",
       "        [-5.000e+00,  5.000e+00],\n",
       "        [-5.000e+00,  5.000e+00],\n",
       "        [-5.000e+00,  5.000e+00],\n",
       "        [-5.000e+00,  5.000e+00],\n",
       "        [-5.000e+00,  5.000e+00],\n",
       "        [-5.000e+00,  5.000e+00],\n",
       "        [ 0.000e+00,  1.000e+01],\n",
       "        [-5.000e+00,  5.000e+00],\n",
       "        [-5.000e+00,  5.000e+00],\n",
       "        [-5.000e+00,  5.000e+00],\n",
       "        [-5.000e+00,  5.000e+00],\n",
       "        [-5.000e+00,  5.000e+00],\n",
       "        [-5.000e+00,  5.000e+00],\n",
       "        [ 1.000e-10,  1.000e+01],\n",
       "        [ 1.000e-10,  1.000e+01],\n",
       "        [ 1.000e-10,  1.000e+01]]),\n",
       " 'pars_labels': ['lumi_0',\n",
       "  'staterror_SR_meff_1',\n",
       "  'staterror_SR_meff_2',\n",
       "  'staterror_SR_meff_3',\n",
       "  'SigRad_4',\n",
       "  'mu_SIG_5',\n",
       "  'EL_EFF_ChargeIDSel_TOTAL_1NPCOR_PLUS_UNCOR_6',\n",
       "  'EL_EFF_ID_TOTAL_1NPCOR_PLUS_UNCOR_7',\n",
       "  'EL_EFF_Iso_TOTAL_1NPCOR_PLUS_UNCOR_8',\n",
       "  'EL_EFF_Reco_TOTAL_1NPCOR_PLUS_UNCOR_9',\n",
       "  'EL_EFF_TriggerEff_TOTAL_1NPCOR_PLUS_UNCOR_10',\n",
       "  'EL_EFF_Trigger_TOTAL_1NPCOR_PLUS_UNCOR_11',\n",
       "  'FT_EFF_B_systematics_12',\n",
       "  'FT_EFF_C_systematics_13',\n",
       "  'FT_EFF_Light_systematics_14',\n",
       "  'FT_EFF_extrapolation_15',\n",
       "  'FT_EFF_extrapolation_from_charm_16',\n",
       "  'JET_JvtEfficiency_17',\n",
       "  'MUON_EFF_BADMUON_STAT_18',\n",
       "  'MUON_EFF_BADMUON_SYS_19',\n",
       "  'MUON_EFF_ISO_STAT_20',\n",
       "  'MUON_EFF_ISO_SYS_21',\n",
       "  'MUON_EFF_RECO_STAT_22',\n",
       "  'MUON_EFF_RECO_SYS_23',\n",
       "  'MUON_EFF_TTVA_STAT_24',\n",
       "  'MUON_EFF_TTVA_SYS_25',\n",
       "  'MUON_EFF_TrigStatUncertainty_26',\n",
       "  'MUON_EFF_TrigSystUncertainty_27',\n",
       "  'EG_RESOLUTION_ALL_28',\n",
       "  'EG_SCALE_ALL_29',\n",
       "  'JET_EtaIntercalibration_NonClosure_highE_30',\n",
       "  'JET_EtaIntercalibration_NonClosure_negEta_31',\n",
       "  'JET_EtaIntercalibration_NonClosure_posEta_32',\n",
       "  'JET_Flavor_Response_33',\n",
       "  'JET_GroupedNP_1_34',\n",
       "  'JET_GroupedNP_2_35',\n",
       "  'JET_GroupedNP_3_36',\n",
       "  'JET_JER_DataVsMC_37',\n",
       "  'JET_JER_EffectiveNP_1_38',\n",
       "  'JET_JER_EffectiveNP_2_39',\n",
       "  'JET_JER_EffectiveNP_3_40',\n",
       "  'JET_JER_EffectiveNP_4_41',\n",
       "  'JET_JER_EffectiveNP_5_42',\n",
       "  'JET_JER_EffectiveNP_6_43',\n",
       "  'JET_JER_EffectiveNP_7restTerm_44',\n",
       "  'MET_SoftTrk_ResoPara_45',\n",
       "  'MET_SoftTrk_ResoPerp_46',\n",
       "  'MET_SoftTrk_Scale_47',\n",
       "  'MUON_ID_48',\n",
       "  'MUON_MS_49',\n",
       "  'MUON_SAGITTA_RESBIAS_50',\n",
       "  'MUON_SAGITTA_RHO_51',\n",
       "  'MUON_SCALE_52',\n",
       "  'ttZ_theory_53',\n",
       "  'mu_ttbar_54',\n",
       "  'ttbar_FSR_55',\n",
       "  'ttbar_ISR_Down_56',\n",
       "  'ttbar_Gen_57',\n",
       "  'ttbar_ISR_Up_58',\n",
       "  'ttbar_PS_59',\n",
       "  'ttH_theory_60',\n",
       "  'staterror_CRtt_meff_61',\n",
       "  'staterror_CRtt_meff_62',\n",
       "  'staterror_CRtt_meff_63'],\n",
       " 'pars_pos_poi': array([5]),\n",
       " 'pars_pos_nuis': array([ 0,  1,  2,  3,  4,  6,  7,  8,  9, 10, 11, 12, 13, 14, 15, 16, 17,\n",
       "        18, 19, 20, 21, 22, 23, 24, 25, 26, 27, 28, 29, 30, 31, 32, 33, 34,\n",
       "        35, 36, 37, 38, 39, 40, 41, 42, 43, 44, 45, 46, 47, 48, 49, 50, 51,\n",
       "        52, 53, 54, 55, 56, 57, 58, 59, 60, 61, 62, 63])}"
      ]
     },
     "execution_count": 6,
     "metadata": {},
     "output_type": "execute_result"
    }
   ],
   "source": [
    "histfact.likelihoods_dict[0]"
   ]
  },
  {
   "cell_type": "code",
   "execution_count": 7,
   "metadata": {
    "hidden": true
   },
   "outputs": [
    {
     "name": "stdout",
     "output_type": "stream",
     "text": [
      "Histfactory pickle file C:\\Users\\Admin\\Dropbox\\Work\\09_Resources\\Git\\GitHub\\DNNLikelihood\\ATLAS\\tutorials\\ATLAS_sbottom_search_histfactory.pickle saved in 0.006640400000000213 s.\n",
      "Histfactory json file C:\\Users\\Admin\\Dropbox\\Work\\09_Resources\\Git\\GitHub\\DNNLikelihood\\ATLAS\\tutorials\\ATLAS_sbottom_search_histfactory.json saved in 0.0009577000000007274 s.\n",
      "Histfactory log file C:\\Users\\Admin\\Dropbox\\Work\\09_Resources\\Git\\GitHub\\DNNLikelihood\\ATLAS\\tutorials\\ATLAS_sbottom_search_histfactory.log saved in 0.0037561999999997653 s.\n"
     ]
    }
   ],
   "source": [
    "histfact.save_histfactory()"
   ]
  },
  {
   "cell_type": "code",
   "execution_count": 8,
   "metadata": {
    "hidden": true
   },
   "outputs": [
    {
     "name": "stdout",
     "output_type": "stream",
     "text": [
      "Likelihood pickle file C:\\Users\\Admin\\Dropbox\\Work\\09_Resources\\Git\\GitHub\\DNNLikelihood\\ATLAS\\tutorials\\ATLAS_sbottom_search_0_region_A_patch_sbottom_1000_131_1_likelihood.pickle saved in 0.14166789999999985 s.\n",
      "Likelihood json file C:\\Users\\Admin\\Dropbox\\Work\\09_Resources\\Git\\GitHub\\DNNLikelihood\\ATLAS\\tutorials\\ATLAS_sbottom_search_0_region_A_patch_sbottom_1000_131_1_likelihood.json saved in 0.002614499999999964 s.\n",
      "Likelihood log file C:\\Users\\Admin\\Dropbox\\Work\\09_Resources\\Git\\GitHub\\DNNLikelihood\\ATLAS\\tutorials\\ATLAS_sbottom_search_0_region_A_patch_sbottom_1000_131_1_likelihood.log saved in 0.0008436999999972272 s.\n",
      "Likelihood object for likelihood 0 created and saved to files C:\\Users\\Admin\\Dropbox\\Work\\09_Resources\\Git\\GitHub\\DNNLikelihood\\ATLAS\\tutorials\\ATLAS_sbottom_search_0_region_A_patch_sbottom_1000_131_1_likelihood.json and C:\\Users\\Admin\\Dropbox\\Work\\09_Resources\\Git\\GitHub\\DNNLikelihood\\ATLAS\\tutorials\\ATLAS_sbottom_search_0_region_A_patch_sbottom_1000_131_1_likelihood.pickle in 1.1462248000000006 s.\n",
      "Histfactory log file C:\\Users\\Admin\\Dropbox\\Work\\09_Resources\\Git\\GitHub\\DNNLikelihood\\ATLAS\\tutorials\\ATLAS_sbottom_search_histfactory.log saved in 0.005074000000000467 s.\n"
     ]
    }
   ],
   "source": [
    "likelihood_0 = histfact.get_likelihood_object(lik_number=0)"
   ]
  },
  {
   "cell_type": "markdown",
   "metadata": {
    "heading_collapsed": true
   },
   "source": [
    "## Likelihood"
   ]
  },
  {
   "cell_type": "code",
   "execution_count": 9,
   "metadata": {
    "hidden": true
   },
   "outputs": [],
   "source": [
    "import numpy as np"
   ]
  },
  {
   "cell_type": "code",
   "execution_count": 10,
   "metadata": {
    "hidden": true
   },
   "outputs": [
    {
     "data": {
      "text/plain": [
       "[10, 10, 10]"
      ]
     },
     "execution_count": 10,
     "metadata": {},
     "output_type": "execute_result"
    }
   ],
   "source": [
    "nbI_nominal = np.array(list(reversed([i for i in range(100,1100,100)])))\n",
    "nbI_obs = np.random.poisson(nbI_nominal)\n",
    "nsI_reference = np.array(list(reversed([i for i in range(10,110,10)])))\n",
    "[len(nbI_nominal),len(nbI_obs),len(nsI_reference)]"
   ]
  },
  {
   "cell_type": "code",
   "execution_count": 11,
   "metadata": {
    "hidden": true
   },
   "outputs": [],
   "source": [
    "def nbI(delta):\n",
    "    delta = np.array(delta)\n",
    "    return np.array([nbI_nominal[i]*(1+0.1)**delta[i] for i in range(len(delta))])\n",
    "def nsI(mu):\n",
    "    return mu*nsI_reference\n",
    "def nI(pars):\n",
    "    mu = pars[0]\n",
    "    delta = pars[1:]\n",
    "    return np.array(nsI(mu)+nbI(delta))\n",
    "def loglik(pars, obs):\n",
    "    exp = nI(pars)\n",
    "    logfact = np.array(list(map(lambda x: np.math.lgamma(x+1), obs)))\n",
    "    return np.sum(-1*logfact+obs*np.log(exp)-exp)\n",
    "def logprior(pars):\n",
    "    mu = pars[0]\n",
    "    delta = pars[1:]\n",
    "    delta_prior = -1/2*np.sum(delta**2+np.full(len(delta),np.log(2*np.pi)))\n",
    "    return delta_prior-np.log(1/(10))\n",
    "def logpdf(pars, obs):\n",
    "    return loglik(pars, obs)+logprior(pars)"
   ]
  },
  {
   "cell_type": "code",
   "execution_count": 12,
   "metadata": {
    "hidden": true
   },
   "outputs": [
    {
     "data": {
      "text/plain": [
       "array([964.41283779, 880.48911981, 939.85250378, 713.13973906,\n",
       "       637.99568937, 444.46664318, 463.54296826, 289.55227557,\n",
       "       193.33986531, 121.296238  ])"
      ]
     },
     "execution_count": 12,
     "metadata": {},
     "output_type": "execute_result"
    }
   ],
   "source": [
    "nbI(np.random.normal(0,1,10))"
   ]
  },
  {
   "cell_type": "code",
   "execution_count": 13,
   "metadata": {
    "hidden": true
   },
   "outputs": [
    {
     "data": {
      "text/plain": [
       "array([110.,  99.,  88.,  77.,  66.,  55.,  44.,  33.,  22.,  11.])"
      ]
     },
     "execution_count": 13,
     "metadata": {},
     "output_type": "execute_result"
    }
   ],
   "source": [
    "nsI(1.1)"
   ]
  },
  {
   "cell_type": "code",
   "execution_count": 14,
   "metadata": {
    "hidden": true
   },
   "outputs": [
    {
     "data": {
      "text/plain": [
       "array([1108.89393006,  951.21806773,  872.7023287 ,  734.82862964,\n",
       "        782.86919707,  576.19275707,  412.85255202,  399.54254185,\n",
       "        231.65163455,  108.87542944])"
      ]
     },
     "execution_count": 14,
     "metadata": {},
     "output_type": "execute_result"
    }
   ],
   "source": [
    "nI(np.insert(np.random.normal(0,1,10),0,1.1))"
   ]
  },
  {
   "cell_type": "code",
   "execution_count": 15,
   "metadata": {
    "hidden": true
   },
   "outputs": [
    {
     "data": {
      "text/plain": [
       "-111.5975847536257"
      ]
     },
     "execution_count": 15,
     "metadata": {},
     "output_type": "execute_result"
    }
   ],
   "source": [
    "logpdf(np.insert(np.random.normal(0,1,10),0,1.1), nbI_obs)"
   ]
  },
  {
   "cell_type": "code",
   "execution_count": 16,
   "metadata": {
    "hidden": true
   },
   "outputs": [],
   "source": [
    "pars_pos_poi = [0]\n",
    "pars_pos_nuis = range(1,11)\n",
    "pars_init = np.insert(np.full(10,0),0,1)\n",
    "pars_bounds = np.concatenate((np.array([[-5,5]]),\n",
    "                              np.vstack([np.full(10,-np.inf),\n",
    "                                         np.full(10,np.inf)]).T))"
   ]
  },
  {
   "cell_type": "code",
   "execution_count": 17,
   "metadata": {
    "hidden": true
   },
   "outputs": [
    {
     "data": {
      "text/plain": [
       "array([[ -5.,   5.],\n",
       "       [-inf,  inf],\n",
       "       [-inf,  inf],\n",
       "       [-inf,  inf],\n",
       "       [-inf,  inf],\n",
       "       [-inf,  inf],\n",
       "       [-inf,  inf],\n",
       "       [-inf,  inf],\n",
       "       [-inf,  inf],\n",
       "       [-inf,  inf],\n",
       "       [-inf,  inf]])"
      ]
     },
     "execution_count": 17,
     "metadata": {},
     "output_type": "execute_result"
    }
   ],
   "source": [
    "np.concatenate((np.array([[-5,5]]),np.vstack([np.full(10,-np.inf),np.full(10,np.inf)]).T))"
   ]
  },
  {
   "cell_type": "code",
   "execution_count": 18,
   "metadata": {
    "hidden": true
   },
   "outputs": [
    {
     "name": "stdout",
     "output_type": "stream",
     "text": [
      "Likelihood pickle file C:\\Users\\Admin\\Dropbox\\Work\\09_Resources\\Git\\GitHub\\DNNLikelihood\\ATLAS\\tutorials\\toy_likelihood.pickle saved in 0.00889630000000352 s.\n",
      "Likelihood json file C:\\Users\\Admin\\Dropbox\\Work\\09_Resources\\Git\\GitHub\\DNNLikelihood\\ATLAS\\tutorials\\toy_likelihood.json saved in 0.0011209999999977072 s.\n",
      "Likelihood log file C:\\Users\\Admin\\Dropbox\\Work\\09_Resources\\Git\\GitHub\\DNNLikelihood\\ATLAS\\tutorials\\toy_likelihood.log saved in 0.0008215000000006967 s.\n"
     ]
    }
   ],
   "source": [
    "likelihood = DNNLikelihood.Likelihood(name = 'toy',\n",
    "                                      logpdf = logpdf,\n",
    "                                      logpdf_args = [nbI_obs],\n",
    "                                      pars_pos_poi = pars_pos_poi,\n",
    "                                      pars_pos_nuis = pars_pos_nuis,\n",
    "                                      pars_init = pars_init,\n",
    "                                      pars_labels = None,\n",
    "                                      pars_bounds = pars_bounds,\n",
    "                                      output_folder = \"tutorials\")"
   ]
  },
  {
   "cell_type": "code",
   "execution_count": 19,
   "metadata": {
    "hidden": true
   },
   "outputs": [
    {
     "name": "stdout",
     "output_type": "stream",
     "text": [
      "Likelihood loaded in 0.00491940000000568 .\n",
      "Likelihood log file C:\\Users\\Admin\\Dropbox\\Work\\09_Resources\\Git\\GitHub\\DNNLikelihood\\ATLAS\\tutorials\\toy_likelihood.log saved in 0.0007221999999984519 s.\n"
     ]
    }
   ],
   "source": [
    "likelihood = DNNLikelihood.Likelihood(likelihood_input_file=\"tutorials/toy_likelihood\")"
   ]
  },
  {
   "cell_type": "code",
   "execution_count": 20,
   "metadata": {
    "hidden": true
   },
   "outputs": [
    {
     "data": {
      "text/plain": [
       "-67.02852055836361"
      ]
     },
     "execution_count": 20,
     "metadata": {},
     "output_type": "execute_result"
    }
   ],
   "source": [
    "likelihood.logpdf_fn(likelihood.pars_init,*likelihood.logpdf_args)"
   ]
  },
  {
   "cell_type": "code",
   "execution_count": 21,
   "metadata": {
    "hidden": true
   },
   "outputs": [
    {
     "name": "stdout",
     "output_type": "stream",
     "text": [
      "Saved figure C:\\Users\\Admin\\Dropbox\\Work\\09_Resources\\Git\\GitHub\\DNNLikelihood\\ATLAS\\tutorials\\toy_likelihood_figure_par_0.pdf.\n"
     ]
    },
    {
     "data": {
      "image/png": "[encoded data removed]",
      "text/plain": [
       "<Figure size 640x480 with 1 Axes>"
      ]
     },
     "metadata": {},
     "output_type": "display_data"
    },
    {
     "name": "stdout",
     "output_type": "stream",
     "text": [
      "Likelihood log file C:\\Users\\Admin\\Dropbox\\Work\\09_Resources\\Git\\GitHub\\DNNLikelihood\\ATLAS\\tutorials\\toy_likelihood.log saved in 0.0007520999999997002 s.\n",
      "Saved figure C:\\Users\\Admin\\Dropbox\\Work\\09_Resources\\Git\\GitHub\\DNNLikelihood\\ATLAS\\tutorials\\toy_likelihood_figure_par_5.pdf.\n"
     ]
    },
    {
     "data": {
      "image/png": "[encoded data removed]",
      "text/plain": [
       "<Figure size 640x480 with 1 Axes>"
      ]
     },
     "metadata": {},
     "output_type": "display_data"
    },
    {
     "name": "stdout",
     "output_type": "stream",
     "text": [
      "Likelihood log file C:\\Users\\Admin\\Dropbox\\Work\\09_Resources\\Git\\GitHub\\DNNLikelihood\\ATLAS\\tutorials\\toy_likelihood.log saved in 0.0008248999999977968 s.\n"
     ]
    }
   ],
   "source": [
    "likelihood.plot_logpdf_par([[0,-1,1],[5,-1,1]],overwrite=True)"
   ]
  },
  {
   "cell_type": "code",
   "execution_count": 22,
   "metadata": {
    "hidden": true
   },
   "outputs": [
    {
     "name": "stdout",
     "output_type": "stream",
     "text": [
      "Maximum likelihood computed in 0.0446119000000067 s.\n",
      "Likelihood log file C:\\Users\\Admin\\Dropbox\\Work\\09_Resources\\Git\\GitHub\\DNNLikelihood\\ATLAS\\tutorials\\toy_likelihood.log saved in 0.0008112000000011221 s.\n",
      "[ 0.07336518  0.13770998  0.37188637  0.29722917 -0.11885353  0.03827821\n",
      " -0.09778509 -0.39470254 -0.05635657 -0.04963832 -0.08637441]\n",
      "46.951238972152446\n"
     ]
    }
   ],
   "source": [
    "likelihood.compute_maximum_logpdf()\n",
    "print(likelihood.X_logpdf_max)\n",
    "print(likelihood.Y_logpdf_max)"
   ]
  },
  {
   "cell_type": "code",
   "execution_count": 23,
   "metadata": {
    "hidden": true
   },
   "outputs": [
    {
     "data": {
      "application/vnd.jupyter.widget-view+json": {
       "model_id": "cc66780aa1e24319a733fc9f8e1225ac",
       "version_major": 2,
       "version_minor": 0
      },
      "text/plain": [
       "FloatProgress(value=0.0, layout=Layout(height='14px', margin='-5px 0px -20px 0px', padding='0px', width='500px…"
      ]
     },
     "metadata": {},
     "output_type": "display_data"
    },
    {
     "name": "stdout",
     "output_type": "stream",
     "text": [
      "Total number of points: 10 .\n",
      "Log-pdf values lie in the range [ 46.95735912460686 , 51.570203866318195 ]\n",
      "10 local maxima computed in 0.32282820000000356 s.\n",
      "Likelihood log file C:\\Users\\Admin\\Dropbox\\Work\\09_Resources\\Git\\GitHub\\DNNLikelihood\\ATLAS\\tutorials\\toy_likelihood.log saved in 0.0008557999999965205 s.\n",
      "[[-1.          1.10834579  1.31730977  1.23774123  0.83576533  0.96495694\n",
      "   0.8125936   0.49455945  0.76571686  0.68476719  0.46789085]\n",
      " [-0.77777778  0.91269213  1.12648358  1.04763503  0.64239136  0.77676006\n",
      "   0.62703081  0.31223278  0.5961199   0.53146156  0.349481  ]\n",
      " [-0.55555556  0.71428538  0.93309895  0.85511905  0.44676971  0.58661686\n",
      "   0.43988422  0.1288899   0.42610519  0.3787011   0.23290691]\n",
      " [-0.33333333  0.51311423  0.73715087  0.66020111  0.24893106  0.39456257\n",
      "   0.25122411 -0.05536624  0.25578756  0.22660957  0.11825617]\n",
      " [-0.11111111  0.30914035  0.53861567  0.46288121  0.04890399  0.20064375\n",
      "   0.06112319 -0.24042337  0.08528204  0.07531189  0.00558092]\n",
      " [ 0.11111111  0.1023545   0.33749702  0.26317002 -0.15327163  0.00491569\n",
      "  -0.1303347  -0.42616667 -0.08528037 -0.07506625 -0.10506561]\n",
      " [ 0.33333333 -0.10725203  0.133792    0.06108483 -0.35754443 -0.19255606\n",
      "  -0.32305531 -0.61244404 -0.25576901 -0.22439896 -0.21363482]\n",
      " [ 0.55555556 -0.31967989 -0.07249189 -0.14334838 -0.56384931 -0.39169647\n",
      "  -0.51692766 -0.79913572 -0.4260528  -0.37256433 -0.32009345]\n",
      " [ 0.77777778 -0.5349253  -0.28133915 -0.35009471 -0.77213759 -0.59242687\n",
      "  -0.71185622 -0.98608035 -0.59596981 -0.51943054 -0.42439747]\n",
      " [ 1.         -0.7529692  -0.49272518 -0.55910871 -0.98229932 -0.79462588\n",
      "  -0.90769482 -1.17313432 -0.76539005 -0.66488056 -0.52653238]]\n",
      "[51.570203866318195 49.89512622127908 48.58049975239703 47.641854922052815\n",
      " 47.0952668240613 46.95735912460686 47.245305544899566 47.97682849696851\n",
      " 49.1701944467797 50.84420557190564]\n"
     ]
    }
   ],
   "source": [
    "likelihood.compute_profiled_maxima(pars=[0],pars_ranges=[[-1,1,10]],spacing=\"grid\",verbose=2)\n",
    "print(likelihood.X_prof_logpdf_max)\n",
    "print(likelihood.Y_prof_logpdf_max)"
   ]
  },
  {
   "cell_type": "code",
   "execution_count": 24,
   "metadata": {
    "hidden": true
   },
   "outputs": [
    {
     "name": "stdout",
     "output_type": "stream",
     "text": [
      "Likelihood pickle file C:\\Users\\Admin\\Dropbox\\Work\\09_Resources\\Git\\GitHub\\DNNLikelihood\\ATLAS\\tutorials\\toy_likelihood.pickle saved in 0.008526899999992565 s.\n",
      "Likelihood json file C:\\Users\\Admin\\Dropbox\\Work\\09_Resources\\Git\\GitHub\\DNNLikelihood\\ATLAS\\tutorials\\toy_likelihood.json saved in 0.0017225999999936903 s.\n",
      "Likelihood log file C:\\Users\\Admin\\Dropbox\\Work\\09_Resources\\Git\\GitHub\\DNNLikelihood\\ATLAS\\tutorials\\toy_likelihood.log saved in 0.0009210000000052787 s.\n"
     ]
    }
   ],
   "source": [
    "likelihood.save_likelihood(overwrite=True)"
   ]
  },
  {
   "cell_type": "markdown",
   "metadata": {},
   "source": [
    "## Sampler"
   ]
  },
  {
   "cell_type": "code",
   "execution_count": null,
   "metadata": {},
   "outputs": [],
   "source": []
  }
 ],
 "metadata": {
  "hide_input": false,
  "kernelspec": {
   "display_name": "Python [conda env:TensorFlow2-GPU]",
   "language": "python",
   "name": "conda-env-TensorFlow2-GPU-py"
  },
  "language_info": {
   "codemirror_mode": {
    "name": "ipython",
    "version": 3
   },
   "file_extension": ".py",
   "mimetype": "text/x-python",
   "name": "python",
   "nbconvert_exporter": "python",
   "pygments_lexer": "ipython3",
   "version": "3.7.6"
  },
  "toc": {
   "base_numbering": 1,
   "nav_menu": {},
   "number_sections": true,
   "sideBar": true,
   "skip_h1_title": true,
   "title_cell": "Table of Contents",
   "title_sidebar": "Contents",
   "toc_cell": false,
   "toc_position": {
    "height": "1200.69px",
    "left": "1026.81px",
    "top": "679.063px",
    "width": "250.521px"
   },
   "toc_section_display": true,
   "toc_window_display": true
  },
  "varInspector": {
   "cols": {
    "lenName": 16,
    "lenType": 16,
    "lenVar": 40
   },
   "kernels_config": {
    "python": {
     "delete_cmd_postfix": "",
     "delete_cmd_prefix": "del ",
     "library": "var_list.py",
     "varRefreshCmd": "print(var_dic_list())"
    },
    "r": {
     "delete_cmd_postfix": ") ",
     "delete_cmd_prefix": "rm(",
     "library": "var_list.r",
     "varRefreshCmd": "cat(var_dic_list()) "
    }
   },
   "types_to_exclude": [
    "module",
    "function",
    "builtin_function_or_method",
    "instance",
    "_Feature"
   ],
   "window_display": false
  }
 },
 "nbformat": 4,
 "nbformat_minor": 2
}
