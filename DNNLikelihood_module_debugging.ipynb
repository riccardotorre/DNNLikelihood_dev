{
 "cells": [
  {
   "cell_type": "code",
   "execution_count": 1,
   "metadata": {},
   "outputs": [
    {
     "name": "stdout",
     "output_type": "stream",
     "text": [
      "2 GPUs available in current environment\n",
      "['GPU 0: GeForce RTX 2080 Ti (UUID: GPU-f0f661e7-ccb7-e123-223c-c522aa3c3b57)\\\\r', 'GPU 1: GeForce RTX 2080 Ti (UUID: GPU-6e8ca5e5-7f91-022c-0499-a5c4fc4c5832)\\\\r']\n",
      "GPU 1: GeForce RTX 2080 Ti (UUID: GPU-6e8ca5e5-7f91-022c-0499-a5c4fc4c5832)\\r has been set.\n",
      "['GeForce RTX 2080 Ti']\n"
     ]
    },
    {
     "name": "stderr",
     "output_type": "stream",
     "text": [
      "Using TensorFlow backend.\n"
     ]
    },
    {
     "name": "stdout",
     "output_type": "stream",
     "text": [
      "88 CPU cores available\n"
     ]
    }
   ],
   "source": [
    "try:\n",
    "    from setGPUs import setGPUs\n",
    "    GPU_numbers = [1]#[0,1]\n",
    "    GPU_names = setGPUs(GPU_numbers)\n",
    "    print(GPU_names)\n",
    "except:\n",
    "    print(\"No GPU available\")\n",
    "\n",
    "import gc\n",
    "import pickle\n",
    "from multiprocessing import Pool\n",
    "\n",
    "%matplotlib inline\n",
    "import matplotlib\n",
    "import psutil\n",
    "from jupyterthemes import jtplot\n",
    "from scipy import stats\n",
    "\n",
    "import DNNLikelihood\n",
    "import mcmc\n",
    "import toy_likelihood\n",
    "from DNNLikelihood import *\n",
    "from mcmc import *\n",
    "from toy_likelihood import *\n",
    "\n",
    "fig_dir = \"../paper/figs/\"\n",
    "jtplot.reset()"
   ]
  },
  {
   "cell_type": "code",
   "execution_count": 1,
   "metadata": {},
   "outputs": [],
   "source": [
    "import sys\n",
    "# the mock-0.3.1 dir contains testcase.py, testutils.py & mock.py\n",
    "sys.path.append('../dev')\n",
    "import source\n",
    "#import emcee\n",
    "from scipy import stats\n",
    "import toy_likelihood\n",
    "from toy_likelihood import *\n",
    "#from source import *"
   ]
  },
  {
   "cell_type": "code",
   "execution_count": 3,
   "metadata": {},
   "outputs": [
    {
     "ename": "AttributeError",
     "evalue": "'NoneType' object has no attribute 'rstrip'",
     "output_type": "error",
     "traceback": [
      "\u001b[1;31m---------------------------------------------------------------------------\u001b[0m",
      "\u001b[1;31mAttributeError\u001b[0m                            Traceback (most recent call last)",
      "\u001b[1;32m<ipython-input-3-f600f9af3ea7>\u001b[0m in \u001b[0;36m<module>\u001b[1;34m\u001b[0m\n\u001b[0;32m      1\u001b[0m \u001b[0mfolder\u001b[0m \u001b[1;33m=\u001b[0m \u001b[1;32mNone\u001b[0m\u001b[1;33m\u001b[0m\u001b[1;33m\u001b[0m\u001b[0m\n\u001b[1;32m----> 2\u001b[1;33m \u001b[0mfolder\u001b[0m \u001b[1;33m=\u001b[0m \u001b[0mfolder\u001b[0m\u001b[1;33m.\u001b[0m\u001b[0mrstrip\u001b[0m\u001b[1;33m(\u001b[0m\u001b[1;34m'/'\u001b[0m\u001b[1;33m)\u001b[0m\u001b[1;33m\u001b[0m\u001b[1;33m\u001b[0m\u001b[0m\n\u001b[0m\u001b[0;32m      3\u001b[0m \u001b[0mfolder\u001b[0m\u001b[1;33m\u001b[0m\u001b[1;33m\u001b[0m\u001b[0m\n",
      "\u001b[1;31mAttributeError\u001b[0m: 'NoneType' object has no attribute 'rstrip'"
     ]
    }
   ],
   "source": [
    "folder = None\n",
    "folder = folder.rstrip('/')\n",
    "folder"
   ]
  },
  {
   "cell_type": "code",
   "execution_count": 2,
   "metadata": {},
   "outputs": [],
   "source": [
    "import sys\n",
    "sys.path.append('../dev/source')\n",
    "from utility import *"
   ]
  },
  {
   "cell_type": "code",
   "execution_count": 2,
   "metadata": {},
   "outputs": [
    {
     "ename": "NameError",
     "evalue": "name 'ShowPrints' is not defined",
     "output_type": "error",
     "traceback": [
      "\u001b[0;31m---------------------------------------------------------------------------\u001b[0m",
      "\u001b[0;31mNameError\u001b[0m                                 Traceback (most recent call last)",
      "\u001b[0;32m<ipython-input-2-cee116bc0b82>\u001b[0m in \u001b[0;36m<module>\u001b[0;34m\u001b[0m\n\u001b[0;32m----> 1\u001b[0;31m \u001b[0mShowPrints\u001b[0m\u001b[0;34m\u001b[0m\u001b[0;34m\u001b[0m\u001b[0m\n\u001b[0m",
      "\u001b[0;31mNameError\u001b[0m: name 'ShowPrints' is not defined"
     ]
    }
   ],
   "source": [
    "ShowPrints"
   ]
  },
  {
   "cell_type": "code",
   "execution_count": 21,
   "metadata": {},
   "outputs": [],
   "source": [
    "import inspect\n",
    "def myfunc(model, arg_is_list, num):\n",
    "    arg_names = getargspec(myfunc).args\n",
    "    print(argnames)"
   ]
  },
  {
   "cell_type": "code",
   "execution_count": null,
   "metadata": {},
   "outputs": [],
   "source": [
    "myfunc"
   ]
  },
  {
   "cell_type": "code",
   "execution_count": 2,
   "metadata": {},
   "outputs": [
    {
     "name": "stdout",
     "output_type": "stream",
     "text": [
      "Loading existing sampler from backend file ../../bigfiles/toy_likelihood_prova_backend.h5\n",
      "Notice: when loading sampler from backend, all parameters of the sampler but the 'logprob_fn', its args 'logprob_fn_args', and 'moves' are set by the backend. All other parameters are set consistently with the MCMC class attributes.\n",
      "Pay attention that they are consistent with the parameters used to produce the sampler saved in backend.\n",
      "Specified number of steps (nsteps) is inconsitent with loaded backend. nsteps has been set to 600 .\n",
      "Sampler for chains toy_likelihood from backend file ../../bigfiles/toy_likelihood_prova_backend.h5 loaded in 0.30407479999999953 seconds.\n",
      "Available number of steps: 600.\n"
     ]
    }
   ],
   "source": [
    "MCMC1 = source.MCMC(logprob_fn=logprob,\n",
    "                    logprob_fn_args = None,\n",
    "                    biased = False,\n",
    "                    n_pars_phys=1,\n",
    "                    n_pars_nuis=94,\n",
    "                    labels = None,\n",
    "                    pars_distrib = [stats.uniform(loc=-1,scale=2)]+[stats.norm(loc=0,scale=1) for i in range(94)],\n",
    "                    nwalkers=200,\n",
    "                    nsteps=100,\n",
    "                    basefilename=\"../../bigfiles/toy_likelihood_prova\",\n",
    "                    chains_name=\"toy_likelihood\",\n",
    "                    new_sampler=False,\n",
    "                    moves = None,#[(emcee.moves.StretchMove(), 0), (emcee.moves.GaussianMove(0.0005, mode='random', factor=None),1)],\n",
    "                    parallel_CPU=True,\n",
    "                    model=None,\n",
    "                    scalerX=None,\n",
    "                    scalerY=None,\n",
    "                    vectorize=False)"
   ]
  },
  {
   "cell_type": "code",
   "execution_count": 28,
   "metadata": {},
   "outputs": [],
   "source": [
    "def __set_param__(obj_name, par_name):\n",
    "    if eval(par_name) is None:\n",
    "        #print(obj_name+\".\"+par_name)\n",
    "        exec(\"%s = %s\" % (par_name, obj_name+\".\"+par_name))\n",
    "        #print(eval(par_name))\n",
    "    else:\n",
    "        setattr(eval(obj_name), par_name, eval(par_name))\n",
    "    return eval(par_name)"
   ]
  },
  {
   "cell_type": "code",
   "execution_count": 29,
   "metadata": {},
   "outputs": [
    {
     "data": {
      "text/plain": [
       "400"
      ]
     },
     "execution_count": 29,
     "metadata": {},
     "output_type": "execute_result"
    }
   ],
   "source": [
    "nsteps="
   ]
  },
  {
   "cell_type": "code",
   "execution_count": 26,
   "metadata": {},
   "outputs": [
    {
     "name": "stdout",
     "output_type": "stream",
     "text": [
      "MCMC1.nsteps\n",
      "400\n"
     ]
    }
   ],
   "source": [
    "nsteps = __set_param__(\"MCMC1\", \"nsteps\")"
   ]
  },
  {
   "cell_type": "code",
   "execution_count": 21,
   "metadata": {},
   "outputs": [
    {
     "data": {
      "text/plain": [
       "400"
      ]
     },
     "execution_count": 21,
     "metadata": {},
     "output_type": "execute_result"
    }
   ],
   "source": [
    "MCMC1.nsteps"
   ]
  },
  {
   "cell_type": "code",
   "execution_count": 28,
   "metadata": {},
   "outputs": [
    {
     "name": "stdout",
     "output_type": "stream",
     "text": [
      "FullArgSpec(args=['obj', 'param'], varargs=None, varkw=None, defaults=None, kwonlyargs=[], kwonlydefaults=None, annotations={})\n",
      "FullArgSpec(args=['obj', 'param'], varargs=None, varkw=None, defaults=None, kwonlyargs=[], kwonlydefaults=None, annotations={})\n"
     ]
    },
    {
     "ename": "TypeError",
     "evalue": "unsupported callable",
     "output_type": "error",
     "traceback": [
      "\u001b[1;31m---------------------------------------------------------------------------\u001b[0m",
      "\u001b[1;31mTypeError\u001b[0m                                 Traceback (most recent call last)",
      "\u001b[1;32m~\\Anaconda3\\envs\\TensorFlow-GPU\\lib\\inspect.py\u001b[0m in \u001b[0;36mgetfullargspec\u001b[1;34m(func)\u001b[0m\n\u001b[0;32m   1125\u001b[0m                                        \u001b[0mskip_bound_arg\u001b[0m\u001b[1;33m=\u001b[0m\u001b[1;32mFalse\u001b[0m\u001b[1;33m,\u001b[0m\u001b[1;33m\u001b[0m\u001b[1;33m\u001b[0m\u001b[0m\n\u001b[1;32m-> 1126\u001b[1;33m                                        sigcls=Signature)\n\u001b[0m\u001b[0;32m   1127\u001b[0m     \u001b[1;32mexcept\u001b[0m \u001b[0mException\u001b[0m \u001b[1;32mas\u001b[0m \u001b[0mex\u001b[0m\u001b[1;33m:\u001b[0m\u001b[1;33m\u001b[0m\u001b[1;33m\u001b[0m\u001b[0m\n",
      "\u001b[1;32m~\\Anaconda3\\envs\\TensorFlow-GPU\\lib\\inspect.py\u001b[0m in \u001b[0;36m_signature_from_callable\u001b[1;34m(obj, follow_wrapper_chains, skip_bound_arg, sigcls)\u001b[0m\n\u001b[0;32m   2207\u001b[0m     \u001b[1;32mif\u001b[0m \u001b[1;32mnot\u001b[0m \u001b[0mcallable\u001b[0m\u001b[1;33m(\u001b[0m\u001b[0mobj\u001b[0m\u001b[1;33m)\u001b[0m\u001b[1;33m:\u001b[0m\u001b[1;33m\u001b[0m\u001b[1;33m\u001b[0m\u001b[0m\n\u001b[1;32m-> 2208\u001b[1;33m         \u001b[1;32mraise\u001b[0m \u001b[0mTypeError\u001b[0m\u001b[1;33m(\u001b[0m\u001b[1;34m'{!r} is not a callable object'\u001b[0m\u001b[1;33m.\u001b[0m\u001b[0mformat\u001b[0m\u001b[1;33m(\u001b[0m\u001b[0mobj\u001b[0m\u001b[1;33m)\u001b[0m\u001b[1;33m)\u001b[0m\u001b[1;33m\u001b[0m\u001b[1;33m\u001b[0m\u001b[0m\n\u001b[0m\u001b[0;32m   2209\u001b[0m \u001b[1;33m\u001b[0m\u001b[0m\n",
      "\u001b[1;31mTypeError\u001b[0m: None is not a callable object",
      "\nThe above exception was the direct cause of the following exception:\n",
      "\u001b[1;31mTypeError\u001b[0m                                 Traceback (most recent call last)",
      "\u001b[1;32m<ipython-input-28-8fa687685e54>\u001b[0m in \u001b[0;36m<module>\u001b[1;34m\u001b[0m\n\u001b[0;32m      1\u001b[0m \u001b[0m__set_param__\u001b[0m\u001b[1;33m(\u001b[0m\u001b[0mMCMC1\u001b[0m\u001b[1;33m,\u001b[0m \u001b[0mnsteps\u001b[0m\u001b[1;33m)\u001b[0m\u001b[1;33m\u001b[0m\u001b[1;33m\u001b[0m\u001b[0m\n\u001b[1;32m----> 2\u001b[1;33m \u001b[0minspect\u001b[0m\u001b[1;33m.\u001b[0m\u001b[0mgetfullargspec\u001b[0m\u001b[1;33m(\u001b[0m\u001b[0m__set_param__\u001b[0m\u001b[1;33m(\u001b[0m\u001b[0mMCMC1\u001b[0m\u001b[1;33m,\u001b[0m \u001b[0mnsteps\u001b[0m\u001b[1;33m)\u001b[0m\u001b[1;33m)\u001b[0m\u001b[1;33m\u001b[0m\u001b[1;33m\u001b[0m\u001b[0m\n\u001b[0m",
      "\u001b[1;32m~\\Anaconda3\\envs\\TensorFlow-GPU\\lib\\inspect.py\u001b[0m in \u001b[0;36mgetfullargspec\u001b[1;34m(func)\u001b[0m\n\u001b[0;32m   1130\u001b[0m         \u001b[1;31m# else. So to be fully backwards compatible, we catch all\u001b[0m\u001b[1;33m\u001b[0m\u001b[1;33m\u001b[0m\u001b[1;33m\u001b[0m\u001b[0m\n\u001b[0;32m   1131\u001b[0m         \u001b[1;31m# possible exceptions here, and reraise a TypeError.\u001b[0m\u001b[1;33m\u001b[0m\u001b[1;33m\u001b[0m\u001b[1;33m\u001b[0m\u001b[0m\n\u001b[1;32m-> 1132\u001b[1;33m         \u001b[1;32mraise\u001b[0m \u001b[0mTypeError\u001b[0m\u001b[1;33m(\u001b[0m\u001b[1;34m'unsupported callable'\u001b[0m\u001b[1;33m)\u001b[0m \u001b[1;32mfrom\u001b[0m \u001b[0mex\u001b[0m\u001b[1;33m\u001b[0m\u001b[1;33m\u001b[0m\u001b[0m\n\u001b[0m\u001b[0;32m   1133\u001b[0m \u001b[1;33m\u001b[0m\u001b[0m\n\u001b[0;32m   1134\u001b[0m     \u001b[0margs\u001b[0m \u001b[1;33m=\u001b[0m \u001b[1;33m[\u001b[0m\u001b[1;33m]\u001b[0m\u001b[1;33m\u001b[0m\u001b[1;33m\u001b[0m\u001b[0m\n",
      "\u001b[1;31mTypeError\u001b[0m: unsupported callable"
     ]
    }
   ],
   "source": [
    "\n",
    "inspect.getfullargspec(__set_param__(MCMC1, nsteps))"
   ]
  },
  {
   "cell_type": "code",
   "execution_count": 6,
   "metadata": {},
   "outputs": [],
   "source": [
    "setattr(MCMC1,\"nsteps\",500)"
   ]
  },
  {
   "cell_type": "code",
   "execution_count": 5,
   "metadata": {},
   "outputs": [
    {
     "data": {
      "text/plain": [
       "600"
      ]
     },
     "execution_count": 5,
     "metadata": {},
     "output_type": "execute_result"
    }
   ],
   "source": [
    "getattr(MCMC1,\"nsteps\")"
   ]
  },
  {
   "cell_type": "code",
   "execution_count": 4,
   "metadata": {},
   "outputs": [],
   "source": [
    "nsteps = 900"
   ]
  },
  {
   "cell_type": "code",
   "execution_count": 9,
   "metadata": {},
   "outputs": [
    {
     "name": "stderr",
     "output_type": "stream",
     "text": [
      "C:\\Users\\Admin\\Anaconda3\\envs\\TensorFlow-GPU\\lib\\site-packages\\ipykernel_launcher.py:3: DeprecationWarning: inspect.getargspec() is deprecated since Python 3.0, use inspect.signature() or inspect.getfullargspec()\n",
      "  This is separate from the ipykernel package so we can avoid doing imports until\n"
     ]
    },
    {
     "ename": "KeyError",
     "evalue": "'Generated Model'",
     "output_type": "error",
     "traceback": [
      "\u001b[1;31m---------------------------------------------------------------------------\u001b[0m",
      "\u001b[1;31mKeyError\u001b[0m                                  Traceback (most recent call last)",
      "\u001b[1;32m<ipython-input-9-49e817a7f014>\u001b[0m in \u001b[0;36m<module>\u001b[1;34m\u001b[0m\n\u001b[1;32m----> 1\u001b[1;33m \u001b[0m__set_param__\u001b[0m\u001b[1;33m(\u001b[0m\u001b[0mMCMC1\u001b[0m\u001b[1;33m,\u001b[0m \u001b[0mnsteps\u001b[0m\u001b[1;33m)\u001b[0m\u001b[1;33m\u001b[0m\u001b[1;33m\u001b[0m\u001b[0m\n\u001b[0m",
      "\u001b[1;32m<ipython-input-8-c9ec8d506ed2>\u001b[0m in \u001b[0;36m__set_param__\u001b[1;34m(obj, param)\u001b[0m\n\u001b[0;32m      3\u001b[0m     \u001b[0marg_names\u001b[0m \u001b[1;33m=\u001b[0m \u001b[0minspect\u001b[0m\u001b[1;33m.\u001b[0m\u001b[0mgetargspec\u001b[0m\u001b[1;33m(\u001b[0m\u001b[0m__set_param__\u001b[0m\u001b[1;33m)\u001b[0m\u001b[1;33m.\u001b[0m\u001b[0margs\u001b[0m\u001b[1;33m\u001b[0m\u001b[1;33m\u001b[0m\u001b[0m\n\u001b[0;32m      4\u001b[0m     \u001b[1;31m#obj_name, par_name = [repr(locals()[name]) for name in arg_names]\u001b[0m\u001b[1;33m\u001b[0m\u001b[1;33m\u001b[0m\u001b[1;33m\u001b[0m\u001b[0m\n\u001b[1;32m----> 5\u001b[1;33m     \u001b[0mprint\u001b[0m\u001b[1;33m(\u001b[0m\u001b[0mlocals\u001b[0m\u001b[1;33m(\u001b[0m\u001b[1;33m)\u001b[0m\u001b[1;33m[\u001b[0m\u001b[0mname\u001b[0m\u001b[1;33m]\u001b[0m\u001b[1;33m)\u001b[0m\u001b[1;33m\u001b[0m\u001b[1;33m\u001b[0m\u001b[0m\n\u001b[0m\u001b[0;32m      6\u001b[0m     \u001b[1;32mif\u001b[0m \u001b[0mparam\u001b[0m \u001b[1;32mis\u001b[0m \u001b[1;32mNone\u001b[0m\u001b[1;33m:\u001b[0m\u001b[1;33m\u001b[0m\u001b[1;33m\u001b[0m\u001b[0m\n\u001b[0;32m      7\u001b[0m         \u001b[0mparam\u001b[0m \u001b[1;33m=\u001b[0m \u001b[0meval\u001b[0m\u001b[1;33m(\u001b[0m\u001b[0mobj_name\u001b[0m\u001b[1;33m+\u001b[0m\u001b[1;34m\".\"\u001b[0m\u001b[1;33m+\u001b[0m\u001b[0mpar_name\u001b[0m\u001b[1;33m)\u001b[0m\u001b[1;33m\u001b[0m\u001b[1;33m\u001b[0m\u001b[0m\n",
      "\u001b[1;31mKeyError\u001b[0m: 'Generated Model'"
     ]
    }
   ],
   "source": [
    "__set_param__(MCMC1, nsteps)"
   ]
  },
  {
   "cell_type": "code",
   "execution_count": 8,
   "metadata": {},
   "outputs": [
    {
     "data": {
      "text/plain": [
       "600"
      ]
     },
     "execution_count": 8,
     "metadata": {},
     "output_type": "execute_result"
    }
   ],
   "source": [
    "MCMC1.nsteps"
   ]
  },
  {
   "cell_type": "code",
   "execution_count": 3,
   "metadata": {},
   "outputs": [
    {
     "data": {
      "text/plain": [
       "300"
      ]
     },
     "execution_count": 3,
     "metadata": {},
     "output_type": "execute_result"
    }
   ],
   "source": [
    "MCMC1.backend.iteration"
   ]
  },
  {
   "cell_type": "code",
   "execution_count": 5,
   "metadata": {},
   "outputs": [
    {
     "data": {
      "text/plain": [
       "<bound method MCMC.__init__ of <source.mcmc.MCMC object at 0x0000017597145E48>>"
      ]
     },
     "execution_count": 5,
     "metadata": {},
     "output_type": "execute_result"
    }
   ],
   "source": [
    "MCMC1.__"
   ]
  },
  {
   "cell_type": "code",
   "execution_count": 4,
   "metadata": {},
   "outputs": [
    {
     "name": "stdout",
     "output_type": "stream",
     "text": [
      "Initial number of steps: 300\n",
      "Please increase nsteps to run for more steps\n",
      "Done in 0.13228792999871075 seconds.\n",
      "Final number of steps: 300.\n"
     ]
    }
   ],
   "source": [
    "MCMC1.generate_sampler()"
   ]
  },
  {
   "cell_type": "code",
   "execution_count": 6,
   "metadata": {
    "run_control": {
     "marked": true
    }
   },
   "outputs": [
    {
     "data": {
      "text/plain": [
       "100"
      ]
     },
     "execution_count": 6,
     "metadata": {},
     "output_type": "execute_result"
    }
   ],
   "source": [
    "MCMC1.nsteps"
   ]
  },
  {
   "cell_type": "code",
   "execution_count": 6,
   "metadata": {},
   "outputs": [],
   "source": [
    "MCMC1.new_sampler = False\n",
    "MCMC1.nsteps=600"
   ]
  },
  {
   "cell_type": "code",
   "execution_count": 7,
   "metadata": {},
   "outputs": [
    {
     "name": "stdout",
     "output_type": "stream",
     "text": [
      "Initial number of steps: 500\n",
      "Running 4 parallel processes.\n"
     ]
    },
    {
     "name": "stderr",
     "output_type": "stream",
     "text": [
      "/Applications/HEPTools/anaconda3/envs/TensorFlow/lib/python3.6/site-packages/emcee-3.0.0-py3.6.egg/emcee/ensemble.py:258: RuntimeWarning: Initial state is not linearly independent and it will not allow a full exploration of parameter space\n",
      "WARNING:root:You must install the tqdm library to use progress indicators with emcee\n",
      "/Users/riccardotorre/Dropbox/Work/09_Resources/GitHub/DLikelihood/jupyter/toy_likelihood.py:125: RuntimeWarning: invalid value encountered in log\n",
      "  res = -1*logfact+obs*np.log(exp)-exp\n",
      "/Users/riccardotorre/Dropbox/Work/09_Resources/GitHub/DLikelihood/jupyter/toy_likelihood.py:125: RuntimeWarning: invalid value encountered in log\n",
      "  res = -1*logfact+obs*np.log(exp)-exp\n",
      "/Users/riccardotorre/Dropbox/Work/09_Resources/GitHub/DLikelihood/jupyter/toy_likelihood.py:125: RuntimeWarning: invalid value encountered in log\n",
      "  res = -1*logfact+obs*np.log(exp)-exp\n",
      "/Users/riccardotorre/Dropbox/Work/09_Resources/GitHub/DLikelihood/jupyter/toy_likelihood.py:125: RuntimeWarning: invalid value encountered in log\n",
      "  res = -1*logfact+obs*np.log(exp)-exp\n"
     ]
    },
    {
     "name": "stdout",
     "output_type": "stream",
     "text": [
      "Done in 11.29535418911837 seconds.\n",
      "Final number of steps: 600.\n"
     ]
    }
   ],
   "source": [
    "MCMC1.generate_sampler()"
   ]
  },
  {
   "cell_type": "code",
   "execution_count": 8,
   "metadata": {},
   "outputs": [
    {
     "data": {
      "text/plain": [
       "'../../bigfiles/toy_likelihood_prova_backend.h5'"
      ]
     },
     "execution_count": 8,
     "metadata": {},
     "output_type": "execute_result"
    }
   ],
   "source": [
    "MCMC1.backend_filename"
   ]
  },
  {
   "cell_type": "code",
   "execution_count": null,
   "metadata": {},
   "outputs": [],
   "source": []
  },
  {
   "cell_type": "code",
   "execution_count": 4,
   "metadata": {},
   "outputs": [
    {
     "name": "stdout",
     "output_type": "stream",
     "text": [
      "Notice: when loading sampler from backend, all parameters of the sampler but the 'logprob_fn', its args 'logprob_fn_args', and 'moves' are set by the backend. All other parameters are set consistently with the MCMC class attributes.\n",
      "Pay attention that they are consistent with the parameters used to produce the sampler saved in backend.\n",
      "Specified number of steps (nsteps) is inconsitent with loaded backend. nsteps has been set to 500 .\n",
      "Sampler for chains toy_likelihood from backend file ../../bigfiles/toy_likelihood_prova_backend.h5 loaded in 0.15261568711139262 seconds.\n",
      "Available number of steps: 500.\n"
     ]
    },
    {
     "name": "stderr",
     "output_type": "stream",
     "text": [
      "/Applications/HEPTools/anaconda3/envs/TensorFlow/lib/python3.6/site-packages/emcee-3.0.0-py3.6.egg/emcee/ensemble.py:258: RuntimeWarning: Initial state is not linearly independent and it will not allow a full exploration of parameter space\n"
     ]
    }
   ],
   "source": [
    "MCMC1.load_sampler(backend_filename=\"../../bigfiles/toy_likelihood_prova_backend.h5\")"
   ]
  },
  {
   "cell_type": "code",
   "execution_count": 7,
   "metadata": {
    "scrolled": true
   },
   "outputs": [
    {
     "name": "stdout",
     "output_type": "stream",
     "text": [
      "Saved figure ../../bigfiles/toy_likelihood_prova_figure_distr_0.pdf\n"
     ]
    },
    {
     "data": {
      "image/png": "[encoded data removed]",
      "text/plain": [
       "<Figure size 640x480 with 1 Axes>"
      ]
     },
     "metadata": {},
     "output_type": "display_data"
    },
    {
     "name": "stdout",
     "output_type": "stream",
     "text": [
      "Saved figure ../../bigfiles/toy_likelihood_prova_figure_autocorr_0.pdf\n"
     ]
    },
    {
     "data": {
      "image/png": "[encoded data removed]",
      "text/plain": [
       "<Figure size 640x480 with 1 Axes>"
      ]
     },
     "metadata": {},
     "output_type": "display_data"
    },
    {
     "name": "stdout",
     "output_type": "stream",
     "text": [
      "Saved figure ../../bigfiles/toy_likelihood_prova_figure_distr_2.pdf\n"
     ]
    },
    {
     "data": {
      "image/png": "[encoded data removed]",
      "text/plain": [
       "<Figure size 640x480 with 1 Axes>"
      ]
     },
     "metadata": {},
     "output_type": "display_data"
    },
    {
     "name": "stdout",
     "output_type": "stream",
     "text": [
      "Saved figure ../../bigfiles/toy_likelihood_prova_figure_autocorr_2.pdf\n"
     ]
    },
    {
     "data": {
      "image/png": "[encoded data removed]",
      "text/plain": [
       "<Figure size 640x480 with 1 Axes>"
      ]
     },
     "metadata": {},
     "output_type": "display_data"
    }
   ],
   "source": [
    "MCMC1.plot_dist_and_autocorr(pars=[0,2], labels=None, filename=None, save=True, verbose=True)"
   ]
  },
  {
   "cell_type": "code",
   "execution_count": 7,
   "metadata": {},
   "outputs": [
    {
     "name": "stdout",
     "output_type": "stream",
     "text": [
      "No filename specified. Data sample file name has been set to ../../bigfiles/toy_likelihood_prova_data_sample.pickle .\n",
      "Notice: When requiring an unbiased data sample please check that the required burnin is compatible with MCMC convergence.\n",
      "Computing availanle number of samples\n",
      "There are 120000 total samples, of which 119952 have finite logprob, of which 16648 are unique.\n",
      "Generating unique samples.\n",
      "7000 unique samples generated in 0.8949870569631457 s.\n",
      "Saving samples with pickle to the file ../../bigfiles/toy_likelihood_prova_data_sample.pickle\n",
      "File saved in 0.5672102451790124 seconds.\n",
      "File size is 5376308 .\n"
     ]
    }
   ],
   "source": [
    "DataSamples1 = MCMC1.get_data_sample(nsamples=7000,burnin=100,save=True,data_sample_filename=None)"
   ]
  },
  {
   "cell_type": "code",
   "execution_count": 3,
   "metadata": {},
   "outputs": [
    {
     "data": {
      "text/plain": [
       "'../../bigfiles/toy_likelihood_prova_data_sample.pickle'"
      ]
     },
     "execution_count": 3,
     "metadata": {},
     "output_type": "execute_result"
    }
   ],
   "source": [
    "MCMC1.data_sample_filename"
   ]
  },
  {
   "cell_type": "code",
   "execution_count": null,
   "metadata": {},
   "outputs": [],
   "source": [
    "def save_samples(allsamples,logprob_values,data_sample_filename):\n",
    "    data_sample_filename = check_rename_file(data_sample_filename)\n",
    "    pickle_out = open(data_sample_filename, \"wb\")\n",
    "    start = timer()\n",
    "    pickle.dump(allsamples, pickle_out, protocol=4)\n",
    "    pickle.dump(logprob_values, pickle_out, protocol=4)\n",
    "    end = timer()\n",
    "    pickle_out.close()\n",
    "    statinfo = os.stat(data_sample_filename)\n",
    "    print(\"File saved in\", end-start,\n",
    "          \"seconds.\\nFile size is\", statinfo.st_size, \".\")\n",
    "    self.data_sample_filename = data_sample_filename"
   ]
  },
  {
   "cell_type": "code",
   "execution_count": null,
   "metadata": {},
   "outputs": [],
   "source": [
    "def check_rename_file(filename):\n",
    "    if os.path.exists(filename):\n",
    "        now = datetime.now().strftime(\"%Y-%m-%d-%H-%M-%S\")\n",
    "        print(\"The file\",data_sample_filename, \"already exists.\")\n",
    "        file, extension = os.path.splitext(filename)\n",
    "        filename = file+\"_\"+now+extension\n",
    "        print(\"In order not to overwrite saving to the file\", filename)\n",
    "    else:\n",
    "        print(\"Saving to the file\",filename)"
   ]
  },
  {
   "cell_type": "code",
   "execution_count": 9,
   "metadata": {},
   "outputs": [
    {
     "data": {
      "text/plain": [
       "'../../bigfiles/toy_likelihood_prova_data_sample.pickle'"
      ]
     },
     "execution_count": 9,
     "metadata": {},
     "output_type": "execute_result"
    }
   ],
   "source": [
    "DataSamples1.data_sample_filename"
   ]
  },
  {
   "cell_type": "code",
   "execution_count": 2,
   "metadata": {},
   "outputs": [
    {
     "ename": "NameError",
     "evalue": "name 'Data_sample' is not defined",
     "output_type": "error",
     "traceback": [
      "\u001b[0;31m---------------------------------------------------------------------------\u001b[0m",
      "\u001b[0;31mNameError\u001b[0m                                 Traceback (most recent call last)",
      "\u001b[0;32m<ipython-input-2-7f65cf31d1fd>\u001b[0m in \u001b[0;36m<module>\u001b[0;34m\u001b[0m\n\u001b[0;32m----> 1\u001b[0;31m \u001b[0mDataSamples2\u001b[0m \u001b[0;34m=\u001b[0m \u001b[0mData_sample\u001b[0m\u001b[0;34m(\u001b[0m\u001b[0mname\u001b[0m \u001b[0;34m=\u001b[0m \u001b[0;34m\"toy_likelihood\"\u001b[0m\u001b[0;34m,\u001b[0m\u001b[0mdata_sample_filename\u001b[0m \u001b[0;34m=\u001b[0m \u001b[0;34m\"../../bigfiles/toy_likelihood_prova_samples.pickle\"\u001b[0m\u001b[0;34m,\u001b[0m\u001b[0mimport_from_file\u001b[0m \u001b[0;34m=\u001b[0m \u001b[0;32mTrue\u001b[0m\u001b[0;34m,\u001b[0m\u001b[0mnpoints\u001b[0m \u001b[0;34m=\u001b[0m \u001b[0;36m10000\u001b[0m\u001b[0;34m,\u001b[0m\u001b[0mshuffle\u001b[0m \u001b[0;34m=\u001b[0m \u001b[0;32mFalse\u001b[0m\u001b[0;34m)\u001b[0m\u001b[0;34m\u001b[0m\u001b[0;34m\u001b[0m\u001b[0m\n\u001b[0m",
      "\u001b[0;31mNameError\u001b[0m: name 'Data_sample' is not defined"
     ]
    }
   ],
   "source": [
    "DataSamples2 = Data_sample(name = \"toy_likelihood\",data_sample_filename = \"../../bigfiles/toy_likelihood_prova_samples.pickle\",import_from_file = True,npoints = 10000,shuffle = False)"
   ]
  },
  {
   "cell_type": "code",
   "execution_count": 223,
   "metadata": {},
   "outputs": [
    {
     "name": "stdout",
     "output_type": "stream",
     "text": [
      "163769 100000\n"
     ]
    }
   ],
   "source": [
    "print(len(DataSamples1.data_logprob),len(DataSamples2.data_logprob))"
   ]
  },
  {
   "cell_type": "code",
   "execution_count": 182,
   "metadata": {},
   "outputs": [
    {
     "name": "stdout",
     "output_type": "stream",
     "text": [
      "200000\n",
      "183972\n",
      "181897\n"
     ]
    }
   ],
   "source": [
    "logprobs = MCMC1.sampler.get_log_prob().flatten()\n",
    "print(len(logprobs))\n",
    "logprobs2 = logprobs[logprobs>-np.inf]\n",
    "print(len(logprobs2))\n",
    "logprobs3 = np.unique(logprobs2, return_index=False)\n",
    "print(len(logprobs3))"
   ]
  },
  {
   "cell_type": "code",
   "execution_count": 150,
   "metadata": {},
   "outputs": [
    {
     "data": {
      "text/plain": [
       "array([[     9,      1],\n",
       "       [   209,      1],\n",
       "       [   409,      1],\n",
       "       ...,\n",
       "       [119409,      1],\n",
       "       [119609,      1],\n",
       "       [119809,      1]])"
      ]
     },
     "execution_count": 150,
     "metadata": {},
     "output_type": "execute_result"
    }
   ],
   "source": [
    "prova = np.array([[i,np.array_equal(allsamples_tmp2[i],allsamples_tmp2[9])] for i in range(len(allsamples_tmp2))])\n",
    "prova[prova[:,1]==1]"
   ]
  },
  {
   "cell_type": "code",
   "execution_count": 162,
   "metadata": {},
   "outputs": [
    {
     "data": {
      "text/plain": [
       "array([-0.9303711 ,  1.61496673, -2.28473464,  0.45048235,  0.09631629,\n",
       "        0.47883779,  2.15698748, -1.04408503,  0.75892493,  0.58746099,\n",
       "       -1.04474092,  1.11163894,  0.09452494, -0.23873107, -0.54427911,\n",
       "       -1.76660911,  0.58805182,  0.15931835,  1.79082702, -0.91599238,\n",
       "       -1.72069   , -0.02123318, -0.93447759,  1.4775185 ,  0.27184623,\n",
       "       -0.33591987,  0.95124541, -1.31900137, -0.37620664,  1.58590329,\n",
       "        0.75018769, -1.15359681,  1.24264886,  0.1697775 ,  0.27474522,\n",
       "       -0.33289865,  1.10582378,  1.4106133 ,  0.20320454,  0.70827975,\n",
       "       -0.11413705, -0.1065436 ,  2.13622724, -1.27985967,  0.60632559,\n",
       "       -0.04072903, -0.63710975, -0.32220473, -0.8671692 ,  0.21225735,\n",
       "       -0.67705527, -1.35687605,  0.43169558, -1.35924788, -0.45742264,\n",
       "       -0.84476191,  0.59934309,  0.87504189, -0.83459435,  1.06481801,\n",
       "       -1.68940587,  0.65562632,  1.41400417,  0.78923418, -0.93384773,\n",
       "       -1.33985469, -1.5777472 ,  0.51030151, -0.12161808,  0.11406825,\n",
       "        0.66768435,  0.66544048,  0.27983831, -0.64858042,  1.04220799,\n",
       "        1.09011574,  0.64976451, -1.29949593,  0.05290223,  0.23858419,\n",
       "        0.19710346,  0.22428682,  0.34038457, -0.20444524, -0.76937787,\n",
       "       -1.03277311, -1.23109054, -0.83351737, -0.60301188, -0.4219084 ,\n",
       "       -1.44944403, -0.1473645 ,  0.40642524, -0.88625549, -0.77879409,\n",
       "              -inf])"
      ]
     },
     "execution_count": 162,
     "metadata": {},
     "output_type": "execute_result"
    }
   ],
   "source": [
    "allsamples_tmp2[543]"
   ]
  },
  {
   "cell_type": "code",
   "execution_count": 154,
   "metadata": {},
   "outputs": [
    {
     "data": {
      "text/plain": [
       "array([-6.79418532e-01, -2.94013264e-01, -1.20462121e+00, -9.52251153e-01,\n",
       "       -3.35463344e-01,  4.76413242e-01,  1.47641152e-01, -1.08020556e+00,\n",
       "       -1.48476481e+00, -8.41218980e-01, -1.04084256e+00, -1.54338269e+00,\n",
       "       -7.65240945e-01, -2.54222619e-01,  1.35257317e+00, -9.70079451e-01,\n",
       "        2.97628693e-01,  1.28893982e+00, -1.11349969e-01,  1.31214837e+00,\n",
       "        2.66760477e-01, -8.29957250e-01,  3.57454897e-01,  7.40864724e-02,\n",
       "       -2.84831113e-02, -2.67130043e-01, -3.62098675e-01,  2.73989285e-01,\n",
       "        5.19776989e-01,  5.24668536e-02,  4.99666879e-01, -9.85932000e-01,\n",
       "        2.13772283e+00, -9.08480905e-02,  2.92698593e-01, -1.45524434e+00,\n",
       "       -4.65800895e-01,  1.42820835e-01, -3.93958568e-01, -7.64796079e-01,\n",
       "       -1.45687214e+00,  9.62503374e-01,  1.51393817e+00,  1.03291397e+00,\n",
       "       -3.65125933e-01,  2.94694046e-03, -1.21819590e-01,  1.12441315e+00,\n",
       "        1.26525167e+00,  9.24637514e-01, -3.25671109e-02, -3.07473934e-01,\n",
       "       -4.82506955e-01, -3.60099690e-01,  1.66256777e+00, -4.67576916e-01,\n",
       "       -5.52534757e-02, -7.06970278e-01, -2.17072222e+00,  1.68306023e+00,\n",
       "       -2.56340555e+00,  6.34979873e-01, -3.50281594e-01,  1.75654363e-02,\n",
       "       -2.63170977e-01,  1.05683995e+00,  7.01866386e-01,  2.38549676e-01,\n",
       "       -1.88131352e+00,  2.21264597e+00,  3.01297821e-01,  7.32452399e-01,\n",
       "       -6.03479277e-01,  8.17177691e-01,  1.24921936e-01,  9.63240628e-01,\n",
       "        5.64885104e-01, -2.49615829e+00, -1.03174355e-01,  1.40999409e+00,\n",
       "       -1.57519902e+00,  4.38590481e-01,  5.32719841e-02,  1.07112375e+00,\n",
       "        1.12002010e+00,  3.24306292e+00, -2.21406069e-01,  9.75155335e-01,\n",
       "        1.97753373e-01,  1.22782098e+00, -1.46424811e+00, -2.17189320e+00,\n",
       "        1.36220533e+00,  7.38397821e-01,  5.23840774e-01,            -inf])"
      ]
     },
     "execution_count": 154,
     "metadata": {},
     "output_type": "execute_result"
    }
   ],
   "source": [
    "allsamples_tmp2[209]"
   ]
  },
  {
   "cell_type": "code",
   "execution_count": 152,
   "metadata": {},
   "outputs": [
    {
     "data": {
      "text/plain": [
       "96"
      ]
     },
     "execution_count": 152,
     "metadata": {},
     "output_type": "execute_result"
    }
   ],
   "source": [
    "np.count_nonzero(allsamples_tmp2[9]==allsamples_tmp2[209])"
   ]
  },
  {
   "cell_type": "code",
   "execution_count": 159,
   "metadata": {},
   "outputs": [
    {
     "data": {
      "text/plain": [
       "[[500, 600],\n",
       " [501, 1],\n",
       " [502, 1],\n",
       " [503, 1],\n",
       " [504, 1],\n",
       " [505, 1],\n",
       " [506, 1],\n",
       " [507, 1],\n",
       " [508, 1],\n",
       " [509, 1],\n",
       " [510, 1],\n",
       " [511, 1],\n",
       " [512, 1],\n",
       " [513, 1],\n",
       " [514, 1],\n",
       " [515, 1],\n",
       " [516, 1],\n",
       " [517, 1],\n",
       " [518, 1],\n",
       " [519, 1],\n",
       " [520, 1],\n",
       " [521, 1],\n",
       " [522, 1],\n",
       " [523, 1],\n",
       " [524, 1],\n",
       " [525, 1],\n",
       " [526, 1],\n",
       " [527, 1],\n",
       " [528, 1],\n",
       " [529, 1],\n",
       " [530, 1],\n",
       " [531, 1],\n",
       " [532, 1],\n",
       " [533, 600],\n",
       " [534, 600],\n",
       " [535, 1],\n",
       " [536, 1],\n",
       " [537, 1],\n",
       " [538, 1],\n",
       " [539, 2],\n",
       " [540, 1],\n",
       " [541, 1],\n",
       " [542, 1],\n",
       " [543, 378],\n",
       " [544, 1],\n",
       " [545, 1],\n",
       " [546, 1],\n",
       " [547, 1],\n",
       " [548, 600],\n",
       " [549, 1]]"
      ]
     },
     "execution_count": 159,
     "metadata": {},
     "output_type": "execute_result"
    }
   ],
   "source": [
    "[[j,np.count_nonzero(np.array([np.array_equal(i,allsamples_tmp2[j]) for i in allsamples_tmp2]))] for j in range(500,550)]"
   ]
  },
  {
   "cell_type": "code",
   "execution_count": 122,
   "metadata": {},
   "outputs": [
    {
     "data": {
      "text/plain": [
       "array([[100,   1,   1]])"
      ]
     },
     "execution_count": 122,
     "metadata": {},
     "output_type": "execute_result"
    }
   ],
   "source": [
    "prova = np.array([[[i,j,np.prod(chains[100,1]==chains[i,j])] for i in range(2,200)] for j in range(1,200)]).reshape([199*198,3])\n",
    "prova[prova[:,2]==1]"
   ]
  },
  {
   "cell_type": "code",
   "execution_count": 108,
   "metadata": {},
   "outputs": [
    {
     "data": {
      "text/plain": [
       "array([ 0.94214892, -0.21828871,  2.29150079,  0.3884399 , -1.40491818,\n",
       "        0.75523493, -0.35540582, -0.84524354,  0.7923277 , -0.03694149,\n",
       "        0.84088805, -0.16380499,  0.67867201, -0.97444254,  0.93745445,\n",
       "        0.45201853,  0.72034921, -0.18161382, -0.05425437,  1.00808188,\n",
       "       -1.44603874, -0.61616443,  0.11432013, -0.65575978,  0.12090459,\n",
       "       -0.23929138,  4.2584791 ,  1.00142015, -0.14234089,  0.70736411,\n",
       "       -0.53645167, -0.39804729,  1.15547875,  0.72358032, -0.17202095,\n",
       "        0.35594005, -1.79263992,  0.21284561,  0.81150929,  0.71416401,\n",
       "       -1.0350433 , -0.2895587 ,  1.77991367, -0.37429102, -1.33711334,\n",
       "       -0.2913812 ,  0.11154798, -0.01855387, -1.06893344, -0.78880841,\n",
       "        0.17106081, -0.23875126,  0.58843551,  1.24955635,  0.7723545 ,\n",
       "       -0.96959023, -0.08703858, -1.50562445,  1.02837197, -1.56544347,\n",
       "       -0.74043963, -1.00255983,  0.71528241,  0.2902851 ,  0.11397506,\n",
       "       -0.12230553,  2.9039343 , -0.41830852,  1.75710205, -0.15132868,\n",
       "        0.83879851,  0.69125309,  0.8034285 ,  1.37565518, -0.52561607,\n",
       "        0.28066008,  1.6939416 ,  1.65168827, -1.13762853,  0.13242846,\n",
       "        0.17740225,  0.98212437,  2.33831523, -0.19722176, -0.92355451,\n",
       "       -0.84127847, -0.7806253 ,  0.81973841, -0.66737443, -1.70018994,\n",
       "        1.34202209,  0.28179418, -0.37466392, -0.90033391,  0.81620713])"
      ]
     },
     "execution_count": 108,
     "metadata": {},
     "output_type": "execute_result"
    }
   ],
   "source": [
    "chains[101,3]"
   ]
  },
  {
   "cell_type": "code",
   "execution_count": 105,
   "metadata": {},
   "outputs": [
    {
     "data": {
      "text/plain": [
       "-351.8914047009547"
      ]
     },
     "execution_count": 105,
     "metadata": {},
     "output_type": "execute_result"
    }
   ],
   "source": [
    "logprobs[100,3]"
   ]
  },
  {
   "cell_type": "code",
   "execution_count": 109,
   "metadata": {},
   "outputs": [
    {
     "data": {
      "text/plain": [
       "-351.94862308431686"
      ]
     },
     "execution_count": 109,
     "metadata": {},
     "output_type": "execute_result"
    }
   ],
   "source": [
    "logprobs[101,3]"
   ]
  },
  {
   "cell_type": "code",
   "execution_count": 56,
   "metadata": {},
   "outputs": [
    {
     "data": {
      "text/plain": [
       "-338.96145386166586"
      ]
     },
     "execution_count": 56,
     "metadata": {},
     "output_type": "execute_result"
    }
   ],
   "source": [
    "logprob_values_tmp[1000]"
   ]
  },
  {
   "cell_type": "code",
   "execution_count": 57,
   "metadata": {},
   "outputs": [
    {
     "data": {
      "text/plain": [
       "-338.96145386166586"
      ]
     },
     "execution_count": 57,
     "metadata": {},
     "output_type": "execute_result"
    }
   ],
   "source": [
    "logprob(allsamples_tmp[1000])"
   ]
  },
  {
   "cell_type": "code",
   "execution_count": 429,
   "metadata": {},
   "outputs": [
    {
     "name": "stdout",
     "output_type": "stream",
     "text": [
      "Generating unique samples. When requiring an unbiased sampling please check that the required burnin is compatible with MCMC convergence.\n",
      "57233 unique samples generated in 0.6683672000017395 s.\n",
      "Computing logprobabilities for the generated samples\n",
      "Running  44  parallel processes.\n",
      "1.874684399999751\n",
      "Logprobabilities computed in 1.875973399999566 s.\n",
      "Saving samples with pickle. The file ../../bigfiles/toy_likelihoo_prova_samples.pickle already exists.\n",
      "In order not to overwrite file samples will be saved to the file ../../bigfiles/toy_likelihoo_prova_samples_2019-10-04-15-28-35.pickle\n",
      "File saved in  0.07924889999958395  seconds.\n",
      "File size is  43955270 .\n"
     ]
    },
    {
     "name": "stderr",
     "output_type": "stream",
     "text": [
      "C:\\Users\\Admin\\Anaconda3\\envs\\TensorFlow-GPU\\lib\\site-packages\\ipykernel_launcher.py:277: DeprecationWarning: elementwise comparison failed; this will raise an error in the future.\n"
     ]
    }
   ],
   "source": [
    "Sampling_prova = MCMC1.get_sampling()"
   ]
  },
  {
   "cell_type": "code",
   "execution_count": 432,
   "metadata": {},
   "outputs": [
    {
     "data": {
      "text/plain": [
       "array([-397.91658226, -395.57401185, -357.65209796, ..., -350.77074856,\n",
       "       -460.70636111, -373.5255393 ])"
      ]
     },
     "execution_count": 432,
     "metadata": {},
     "output_type": "execute_result"
    }
   ],
   "source": [
    "Sampling_prova.data_logprob"
   ]
  },
  {
   "cell_type": "code",
   "execution_count": 338,
   "metadata": {},
   "outputs": [],
   "source": [
    "prova = emcee.backends.HDFBackend(\"../../bigfiles/toy_likelihoo_prova_backend_2019-10-04-14-44-42.h5\", name=\"toy_likelihood\", read_only=True)"
   ]
  },
  {
   "cell_type": "code",
   "execution_count": 339,
   "metadata": {
    "collapsed": true
   },
   "outputs": [
    {
     "data": {
      "text/plain": [
       "array([[[ 4.48787293,  0.95053052, -1.38116369, ...,  0.27453917,\n",
       "          0.2779485 ,  2.03691169],\n",
       "        [ 4.99682531, -0.47274585, -0.26546681, ...,  0.08472814,\n",
       "          1.92038076,  1.05180787],\n",
       "        [ 4.22987256,  0.38791039, -1.96026573, ...,  0.01387702,\n",
       "          0.44510249,  0.34893408],\n",
       "        ...,\n",
       "        [ 1.63533389,  0.51959056, -0.65946654, ...,  0.30770656,\n",
       "         -0.0185772 , -0.38116085],\n",
       "        [-0.58968913,  0.5823725 , -0.7626463 , ..., -0.53656521,\n",
       "         -0.81263584, -0.29850855],\n",
       "        [ 0.20751473, -0.72469095, -2.73428288, ...,  1.10043347,\n",
       "         -0.17536017, -0.74774724]],\n",
       "\n",
       "       [[ 4.48787293,  0.95053052, -1.38116369, ...,  0.27453917,\n",
       "          0.2779485 ,  2.03691169],\n",
       "        [ 4.99682531, -0.47274585, -0.26546681, ...,  0.08472814,\n",
       "          1.92038076,  1.05180787],\n",
       "        [ 4.22987256,  0.38791039, -1.96026573, ...,  0.01387702,\n",
       "          0.44510249,  0.34893408],\n",
       "        ...,\n",
       "        [ 1.63533389,  0.51959056, -0.65946654, ...,  0.30770656,\n",
       "         -0.0185772 , -0.38116085],\n",
       "        [-0.58968913,  0.5823725 , -0.7626463 , ..., -0.53656521,\n",
       "         -0.81263584, -0.29850855],\n",
       "        [ 0.20751473, -0.72469095, -2.73428288, ...,  1.10043347,\n",
       "         -0.17536017, -0.74774724]],\n",
       "\n",
       "       [[ 4.48787293,  0.95053052, -1.38116369, ...,  0.27453917,\n",
       "          0.2779485 ,  2.03691169],\n",
       "        [ 4.99682531, -0.47274585, -0.26546681, ...,  0.08472814,\n",
       "          1.92038076,  1.05180787],\n",
       "        [ 4.22987256,  0.38791039, -1.96026573, ...,  0.01387702,\n",
       "          0.44510249,  0.34893408],\n",
       "        ...,\n",
       "        [ 1.63533389,  0.51959056, -0.65946654, ...,  0.30770656,\n",
       "         -0.0185772 , -0.38116085],\n",
       "        [-0.58968913,  0.5823725 , -0.7626463 , ..., -0.53656521,\n",
       "         -0.81263584, -0.29850855],\n",
       "        [ 0.20751473, -0.72469095, -2.73428288, ...,  1.10043347,\n",
       "         -0.17536017, -0.74774724]],\n",
       "\n",
       "       ...,\n",
       "\n",
       "       [[ 4.42643697,  0.93995391, -1.38678242, ...,  0.26526928,\n",
       "          0.20502965,  2.09397493],\n",
       "        [ 4.99647657, -0.52305328, -0.30603096, ...,  0.0995388 ,\n",
       "          1.86436728,  1.06112126],\n",
       "        [ 4.25154148,  0.38707883, -2.02067172, ...,  0.00878692,\n",
       "          0.44291563,  0.3418818 ],\n",
       "        ...,\n",
       "        [ 1.57305204,  0.51773349, -0.68254378, ...,  0.24880342,\n",
       "         -0.06700345, -0.3734894 ],\n",
       "        [-0.54531947,  0.61133829, -0.78072064, ..., -0.47635492,\n",
       "         -0.78278318, -0.30005708],\n",
       "        [ 0.17294438, -0.73874031, -2.75664853, ...,  1.08589095,\n",
       "         -0.18338363, -0.70062968]],\n",
       "\n",
       "       [[ 4.42643697,  0.93995391, -1.38678242, ...,  0.26526928,\n",
       "          0.20502965,  2.09397493],\n",
       "        [ 4.99647657, -0.52305328, -0.30603096, ...,  0.10131184,\n",
       "          1.86436728,  1.06112126],\n",
       "        [ 4.25154148,  0.38707883, -2.02067172, ...,  0.00878692,\n",
       "          0.44291563,  0.3418818 ],\n",
       "        ...,\n",
       "        [ 1.57305204,  0.51773349, -0.68254378, ...,  0.24880342,\n",
       "         -0.06700345, -0.3734894 ],\n",
       "        [-0.54531947,  0.61133829, -0.78072064, ..., -0.47506452,\n",
       "         -0.78278318, -0.30005708],\n",
       "        [ 0.17294438, -0.73874031, -2.75664853, ...,  1.08589095,\n",
       "         -0.18338363, -0.70062968]],\n",
       "\n",
       "       [[ 4.42643697,  0.93995391, -1.37781998, ...,  0.26526928,\n",
       "          0.20502965,  2.09397493],\n",
       "        [ 4.99647657, -0.52305328, -0.30603096, ...,  0.10131184,\n",
       "          1.86436728,  1.06187121],\n",
       "        [ 4.25154148,  0.38707883, -2.02067172, ...,  0.00878692,\n",
       "          0.44291563,  0.3418818 ],\n",
       "        ...,\n",
       "        [ 1.57305204,  0.51773349, -0.68254378, ...,  0.24880342,\n",
       "         -0.06700345, -0.3734894 ],\n",
       "        [-0.54531947,  0.61133829, -0.78072064, ..., -0.44042283,\n",
       "         -0.78278318, -0.30005708],\n",
       "        [ 0.17294438, -0.73874031, -2.75664853, ...,  1.08589095,\n",
       "         -0.18338363, -0.70062968]]])"
      ]
     },
     "execution_count": 339,
     "metadata": {},
     "output_type": "execute_result"
    }
   ],
   "source": [
    "prova.get_chain()"
   ]
  },
  {
   "cell_type": "code",
   "execution_count": 8,
   "metadata": {},
   "outputs": [
    {
     "name": "stdout",
     "output_type": "stream",
     "text": [
      "dict_keys(['new_sampling'])\n"
     ]
    }
   ],
   "source": [
    "MCMC1.set_params(new_sampling=False)"
   ]
  },
  {
   "cell_type": "code",
   "execution_count": 11,
   "metadata": {},
   "outputs": [
    {
     "data": {
      "text/plain": [
       "dict_keys(['new_sampling'])"
      ]
     },
     "execution_count": 11,
     "metadata": {},
     "output_type": "execute_result"
    }
   ],
   "source": [
    "{'new_sampling': \"boh\"}.keys()"
   ]
  },
  {
   "cell_type": "code",
   "execution_count": 10,
   "metadata": {},
   "outputs": [
    {
     "name": "stdout",
     "output_type": "stream",
     "text": [
      "funziona\n"
     ]
    }
   ],
   "source": [
    "if 'new_sampling' in {'new_sampling': \"boh\"}.keys():\n",
    "    print('funziona')"
   ]
  },
  {
   "cell_type": "code",
   "execution_count": 296,
   "metadata": {},
   "outputs": [],
   "source": [
    "#MCMC1.generate_sampler()"
   ]
  },
  {
   "cell_type": "code",
   "execution_count": 297,
   "metadata": {},
   "outputs": [],
   "source": [
    "#np.shape(MCMC1.sampler.get_chain())"
   ]
  },
  {
   "cell_type": "code",
   "execution_count": null,
   "metadata": {},
   "outputs": [],
   "source": []
  }
 ],
 "metadata": {
  "hide_input": false,
  "kernelspec": {
   "display_name": "Python [conda env:TensorFlow-GPU]",
   "language": "python",
   "name": "conda-env-TensorFlow-GPU-py"
  },
  "language_info": {
   "codemirror_mode": {
    "name": "ipython",
    "version": 3
   },
   "file_extension": ".py",
   "mimetype": "text/x-python",
   "name": "python",
   "nbconvert_exporter": "python",
   "pygments_lexer": "ipython3",
   "version": "3.7.4"
  },
  "toc": {
   "base_numbering": 1,
   "nav_menu": {},
   "number_sections": true,
   "sideBar": false,
   "skip_h1_title": false,
   "title_cell": "Table of Contents",
   "title_sidebar": "Contents",
   "toc_cell": false,
   "toc_position": {
    "height": "47.2px",
    "left": "2499px",
    "top": "202.6px",
    "width": "160.2px"
   },
   "toc_section_display": false,
   "toc_window_display": false
  },
  "varInspector": {
   "cols": {
    "lenName": 16,
    "lenType": 16,
    "lenVar": 40
   },
   "kernels_config": {
    "python": {
     "delete_cmd_postfix": "",
     "delete_cmd_prefix": "del ",
     "library": "var_list.py",
     "varRefreshCmd": "print(var_dic_list())"
    },
    "r": {
     "delete_cmd_postfix": ") ",
     "delete_cmd_prefix": "rm(",
     "library": "var_list.r",
     "varRefreshCmd": "cat(var_dic_list()) "
    }
   },
   "types_to_exclude": [
    "module",
    "function",
    "builtin_function_or_method",
    "instance",
    "_Feature"
   ],
   "window_display": false
  }
 },
 "nbformat": 4,
 "nbformat_minor": 2
}
